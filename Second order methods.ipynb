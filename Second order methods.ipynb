{
 "cells": [
  {
   "cell_type": "code",
   "execution_count": 3,
   "metadata": {},
   "outputs": [],
   "source": [
    "import matplotlib.pyplot as plt\n",
    "import autograd.numpy as np\n",
    "\n",
    "from matplotlib.colors import LogNorm\n",
    "from matplotlib import animation\n",
    "from IPython.display import HTML"
   ]
  },
  {
   "cell_type": "code",
   "execution_count": 7,
   "metadata": {},
   "outputs": [],
   "source": [
    "from autograd import elementwise_grad, value_and_grad\n",
    "from scipy.optimize import minimize\n",
    "from collections import defaultdict\n",
    "#from itertools import izip_longest\n",
    "from functools import partial\n",
    "\n",
    "from mpl_toolkits.mplot3d import axes3d, Axes3D\n",
    "from matplotlib import cm\n",
    "\n",
    "import numpy as np"
   ]
  },
  {
   "cell_type": "code",
   "execution_count": 9,
   "metadata": {},
   "outputs": [],
   "source": [
    "try:\n",
    "    # Python 3\n",
    "    from itertools import zip_longest\n",
    "except ImportError:\n",
    "    # Python 2\n",
    "    from itertools import izip_longest as zip_longest"
   ]
  },
  {
   "cell_type": "code",
   "execution_count": 11,
   "metadata": {},
   "outputs": [
    {
     "ename": "ModuleNotFoundError",
     "evalue": "No module named 'numdifftools'",
     "output_type": "error",
     "traceback": [
      "\u001b[0;31m---------------------------------------------------------------------------\u001b[0m",
      "\u001b[0;31mModuleNotFoundError\u001b[0m                       Traceback (most recent call last)",
      "Input \u001b[0;32mIn [11]\u001b[0m, in \u001b[0;36m<cell line: 1>\u001b[0;34m()\u001b[0m\n\u001b[0;32m----> 1\u001b[0m \u001b[38;5;28;01mfrom\u001b[39;00m \u001b[38;5;21;01mnumdifftools\u001b[39;00m \u001b[38;5;28;01mimport\u001b[39;00m Jacobian, Hessian\n\u001b[1;32m      3\u001b[0m \u001b[38;5;28;01mdef\u001b[39;00m \u001b[38;5;21mfun\u001b[39m(x):\n\u001b[1;32m      4\u001b[0m     \u001b[38;5;28;01mreturn\u001b[39;00m (x[\u001b[38;5;241m0\u001b[39m]\u001b[38;5;241m*\u001b[39m\u001b[38;5;241m*\u001b[39m\u001b[38;5;241m2\u001b[39m \u001b[38;5;241m+\u001b[39m x[\u001b[38;5;241m1\u001b[39m]\u001b[38;5;241m*\u001b[39m\u001b[38;5;241m*\u001b[39m\u001b[38;5;241m2\u001b[39m) \u001b[38;5;241m+\u001b[39m (\u001b[38;5;241m0.5\u001b[39m\u001b[38;5;241m*\u001b[39mx[\u001b[38;5;241m0\u001b[39m] \u001b[38;5;241m+\u001b[39m x[\u001b[38;5;241m1\u001b[39m])\u001b[38;5;241m*\u001b[39m\u001b[38;5;241m*\u001b[39m\u001b[38;5;241m2\u001b[39m \u001b[38;5;241m+\u001b[39m (\u001b[38;5;241m0.5\u001b[39m\u001b[38;5;241m*\u001b[39mx[\u001b[38;5;241m0\u001b[39m] \u001b[38;5;241m+\u001b[39m x[\u001b[38;5;241m1\u001b[39m])\u001b[38;5;241m*\u001b[39m\u001b[38;5;241m*\u001b[39m\u001b[38;5;241m4\u001b[39m\n",
      "\u001b[0;31mModuleNotFoundError\u001b[0m: No module named 'numdifftools'"
     ]
    }
   ],
   "source": [
    "from numdifftools import Jacobian, Hessian\n",
    "\n",
    "def fun(x):\n",
    "    return (x[0]**2 + x[1]**2) + (0.5*x[0] + x[1])**2 + (0.5*x[0] + x[1])**4\n",
    "\n",
    "def fun_der(x):\n",
    "    return Jacobian(lambda x: fun(x))(x).ravel()\n",
    "\n",
    "def fun_hess(x):\n",
    "    return Hessian(lambda x: fun(x))(x)\n",
    "\n",
    "def make_minimize_cb(path=[]):\n",
    "    def minimize_cb(xk):\n",
    "        path.append(np.copy(xk))\n",
    "    return minimize_cb\n",
    "\n",
    "\n",
    "def f(x, y):\n",
    "    return (x**2 + y**2) + (0.5*x + y)**2 + (0.5*x + y)**4\n",
    "\n",
    "minima = np.array([0, 0])\n",
    "start_point = np.array([8, 8])\n",
    "minima_ = minima.reshape(-1, 1)\n",
    "\n",
    "xmin, xmax = -10, 10\n",
    "ymin, ymax = xmin, xmax\n",
    "\n",
    "print(f(*minima))\n",
    "\n",
    "X = np.arange(xmin, xmax, 0.25)\n",
    "Y = np.arange(xmin, xmax, 0.25)\n",
    "X, Y = np.meshgrid(X, Y)\n",
    "Z = f(X, Y)"
   ]
  },
  {
   "cell_type": "code",
   "execution_count": 3,
   "metadata": {},
   "outputs": [
    {
     "name": "stderr",
     "output_type": "stream",
     "text": [
      "/anaconda2/lib/python2.7/site-packages/scipy/optimize/_minimize.py:430: RuntimeWarning: Method trust-ncg cannot handle constraints nor bounds.\n",
      "  RuntimeWarning)\n",
      "/anaconda2/lib/python2.7/site-packages/scipy/linalg/basic.py:1226: RuntimeWarning: internal gelsd driver lwork query error, required iwork dimension not returned. This is likely the result of LAPACK bug 0038, fixed in LAPACK 3.2.2 (released July 21, 2010). Falling back to 'gelss' driver.\n",
      "  warnings.warn(mesg, RuntimeWarning)\n",
      "/anaconda2/lib/python2.7/site-packages/scipy/optimize/_minimize.py:430: RuntimeWarning: Method dogleg cannot handle constraints nor bounds.\n",
      "  RuntimeWarning)\n"
     ]
    }
   ],
   "source": [
    "methods = ['trust-ncg', 'dogleg']\n",
    "\n",
    "minimize_ = partial(minimize, fun=fun, x0=start_point, jac=fun_der, hess=fun_hess, bounds=[(-4.5, 4.5), (-4.5, 4.5)], tol=1e-20)\n",
    "\n",
    "paths_ = defaultdict(list)\n",
    "for method in methods:\n",
    "    paths_[method].append(start_point)\n",
    "    \n",
    "results = {method: minimize_(method=method, callback=make_minimize_cb(paths_[method])) for method in methods}\n",
    "\n",
    "paths = [np.array(paths_[method]).T for method in methods]\n",
    "\n",
    "zpaths = [fun(path) for path in paths]"
   ]
  },
  {
   "cell_type": "code",
   "execution_count": 4,
   "metadata": {
    "collapsed": true
   },
   "outputs": [],
   "source": [
    "class TrajectoryAnimation(animation.FuncAnimation):\n",
    "    \n",
    "    def __init__(self, paths, labels=[], fig=None, ax=None, frames=None, \n",
    "                 interval=60, repeat_delay=5, blit=True, **kwargs):\n",
    "\n",
    "        if fig is None:\n",
    "            if ax is None:\n",
    "                fig, ax = plt.subplots()\n",
    "            else:\n",
    "                fig = ax.get_figure()\n",
    "        else:\n",
    "            if ax is None:\n",
    "                ax = fig.gca()\n",
    "\n",
    "        self.fig = fig\n",
    "        self.ax = ax\n",
    "        \n",
    "        self.paths = paths\n",
    "\n",
    "        if frames is None:\n",
    "            frames = max(path.shape[1] for path in paths)\n",
    "  \n",
    "        self.lines = [ax.plot([], [], label=label, lw=2)[0] \n",
    "                      for _, label in izip_longest(paths, labels)]\n",
    "        self.points = [ax.plot([], [], 'o', color=line.get_color())[0] \n",
    "                       for line in self.lines]\n",
    "\n",
    "        super(TrajectoryAnimation, self).__init__(fig, self.animate, init_func=self.init_anim,\n",
    "                                                  frames=frames, interval=interval, blit=blit,\n",
    "                                                  repeat_delay=repeat_delay, **kwargs)\n",
    "\n",
    "    def init_anim(self):\n",
    "        for line, point in zip(self.lines, self.points):\n",
    "            line.set_data([], [])\n",
    "            point.set_data([], [])\n",
    "        return self.lines + self.points\n",
    "\n",
    "    def animate(self, i):\n",
    "        for line, point, path in zip(self.lines, self.points, self.paths):\n",
    "            line.set_data(*path[::,:i])\n",
    "            point.set_data(*path[::,i-1:i])\n",
    "        return self.lines + self.points"
   ]
  },
  {
   "cell_type": "code",
   "execution_count": 5,
   "metadata": {
    "collapsed": true
   },
   "outputs": [],
   "source": [
    "class TrajectoryAnimation3D(animation.FuncAnimation):\n",
    "    \n",
    "    def __init__(self, paths, zpaths, labels=[], fig=None, ax=None, frames=None, \n",
    "                 interval=60, repeat_delay=5, blit=True, **kwargs):\n",
    "\n",
    "        if fig is None:\n",
    "            if ax is None:\n",
    "                fig, ax = plt.subplots()\n",
    "            else:\n",
    "                fig = ax.get_figure()\n",
    "        else:\n",
    "            if ax is None:\n",
    "                ax = fig.gca()\n",
    "\n",
    "        self.fig = fig\n",
    "        self.ax = ax\n",
    "        \n",
    "        self.paths = paths\n",
    "        self.zpaths = zpaths\n",
    "        \n",
    "        if frames is None:\n",
    "            frames = max(path.shape[1] for path in paths)\n",
    "  \n",
    "        self.lines = [ax.plot([], [], [], label=label, lw=2)[0] \n",
    "                      for _, label in izip_longest(paths, labels)]\n",
    "\n",
    "        super(TrajectoryAnimation3D, self).__init__(fig, self.animate, init_func=self.init_anim,\n",
    "                                                  frames=frames, interval=interval, blit=blit,\n",
    "                                                  repeat_delay=repeat_delay, **kwargs)\n",
    "\n",
    "    def init_anim(self):\n",
    "        for line in self.lines:\n",
    "            line.set_data([], [])\n",
    "            line.set_3d_properties([])\n",
    "        return self.lines\n",
    "\n",
    "    def animate(self, i):\n",
    "        for line, path, zpath in zip(self.lines, self.paths, self.zpaths):\n",
    "            line.set_data(*path[::,:i])\n",
    "            line.set_3d_properties(zpath[:i])\n",
    "        return self.lines"
   ]
  },
  {
   "cell_type": "code",
   "execution_count": 6,
   "metadata": {},
   "outputs": [
    {
     "name": "stderr",
     "output_type": "stream",
     "text": [
      "/anaconda2/lib/python2.7/site-packages/matplotlib/contour.py:1537: UserWarning: Log scale: values of z <= 0 have been masked\n",
      "  warnings.warn('Log scale: values of z <= 0 have been masked')\n"
     ]
    }
   ],
   "source": [
    "fig, ax = plt.subplots(figsize=(10, 6))\n",
    "\n",
    "ax.contour(X, Y, Z, levels=np.logspace(0, 5, 35), norm=LogNorm(), cmap=cm.gray)\n",
    "ax.plot([minima[0]], [minima[1]], 'r*', markersize=10)\n",
    "\n",
    "ax.set_xlabel('$x$')\n",
    "ax.set_ylabel('$y$')\n",
    "\n",
    "ax.set_xlim((xmin, xmax))\n",
    "ax.set_ylim((ymin, ymax))\n",
    "\n",
    "anim = TrajectoryAnimation(paths, labels=methods, ax=ax)\n",
    "\n",
    "ax.legend(loc='upper left')\n",
    "\n",
    "\n",
    "# HTML(anim.to_html5_video())\n",
    "\n",
    "anim.save('./gifs3/zakharov2.gif', dpi=80, writer='imagemagick')"
   ]
  },
  {
   "cell_type": "code",
   "execution_count": 8,
   "metadata": {},
   "outputs": [],
   "source": [
    "fig = plt.figure(figsize=(8, 5))\n",
    "ax = plt.axes(projection='3d', elev=50, azim=-50)\n",
    "\n",
    "ax.plot_surface(X, Y, Z, norm=LogNorm(), rstride=1, cstride=1, edgecolor='none', alpha=.8, cmap=cm.gray)\n",
    "ax.plot([minima[0]], [minima[1]], 'r*', markersize=10)\n",
    "\n",
    "ax.set_xlabel('$x$')\n",
    "ax.set_ylabel('$y$')\n",
    "ax.set_zlabel('$z$')\n",
    "\n",
    "ax.set_xlim((xmin,xmax))\n",
    "ax.set_ylim((ymin, ymax))\n",
    "\n",
    "anim = TrajectoryAnimation3D(paths, zpaths=zpaths, labels=methods, ax=ax)\n",
    "\n",
    "ax.legend(loc='upper left')\n",
    "\n",
    "\n",
    "# HTML(anim.to_html5_video())\n",
    "\n",
    "anim.save('./gifs3/zakharov1.gif', dpi=80, writer='imagemagick')"
   ]
  },
  {
   "cell_type": "code",
   "execution_count": null,
   "metadata": {
    "collapsed": true
   },
   "outputs": [],
   "source": []
  },
  {
   "cell_type": "code",
   "execution_count": null,
   "metadata": {
    "collapsed": true
   },
   "outputs": [],
   "source": []
  }
 ],
 "metadata": {
  "kernelspec": {
   "display_name": "Python 3 (ipykernel)",
   "language": "python",
   "name": "python3"
  },
  "language_info": {
   "codemirror_mode": {
    "name": "ipython",
    "version": 3
   },
   "file_extension": ".py",
   "mimetype": "text/x-python",
   "name": "python",
   "nbconvert_exporter": "python",
   "pygments_lexer": "ipython3",
   "version": "3.9.12"
  }
 },
 "nbformat": 4,
 "nbformat_minor": 2
}
